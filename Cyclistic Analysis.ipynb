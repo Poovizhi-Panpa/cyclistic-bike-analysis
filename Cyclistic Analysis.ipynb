{
 "cells": [
  {
   "cell_type": "code",
   "execution_count": 1,
   "id": "a4691ee5-45bc-44f3-b7a2-34db41fc9086",
   "metadata": {},
   "outputs": [],
   "source": [
    "# Package imports\n",
    "import pandas as pd\n",
    "import numpy as np\n",
    "import os\n",
    "\n",
    "import matplotlib.pyplot as plt\n",
    "import seaborn as sns"
   ]
  },
  {
   "cell_type": "markdown",
   "id": "1afd6044-ebbc-42ab-811e-8f0ecf627264",
   "metadata": {},
   "source": [
    "### Data Collection"
   ]
  },
  {
   "cell_type": "code",
   "execution_count": 3,
   "id": "26bd3486-e9e7-41ab-acf3-ccce89fe3c17",
   "metadata": {},
   "outputs": [],
   "source": [
    "# Read CSVs\n",
    "# Path to the folder where CSV files are stored\n",
    "folder_path = \"CSVs\"\n",
    "\n",
    "# List all CSV files in the folder\n",
    "csv_files = [file for file in os.listdir(folder_path) if file.endswith('.csv')]\n",
    "\n",
    "# Read and append each CSV into a list of DataFrames\n",
    "df_list = []\n",
    "\n",
    "for file in csv_files:\n",
    "    file_path = os.path.join(folder_path, file)\n",
    "    df = pd.read_csv(file_path)\n",
    "    df_list.append(df)\n",
    "\n",
    "# Concatenate all DataFrames into one\n",
    "df = pd.concat(df_list, ignore_index=True)"
   ]
  },
  {
   "cell_type": "markdown",
   "id": "e6c88ce6-668f-4874-a205-e924f7a7c0a8",
   "metadata": {},
   "source": [
    "### Data Validation and Cleaning"
   ]
  },
  {
   "cell_type": "code",
   "execution_count": 5,
   "id": "87f10b2a-4e2d-4364-97df-47c03d383dec",
   "metadata": {},
   "outputs": [
    {
     "name": "stdout",
     "output_type": "stream",
     "text": [
      "<class 'pandas.core.frame.DataFrame'>\n",
      "RangeIndex: 96834 entries, 0 to 96833\n",
      "Data columns (total 13 columns):\n",
      " #   Column              Non-Null Count  Dtype  \n",
      "---  ------              --------------  -----  \n",
      " 0   ride_id             96834 non-null  object \n",
      " 1   rideable_type       96834 non-null  object \n",
      " 2   started_at          96834 non-null  object \n",
      " 3   ended_at            96834 non-null  object \n",
      " 4   start_station_name  88209 non-null  object \n",
      " 5   start_station_id    88209 non-null  object \n",
      " 6   end_station_name    86557 non-null  object \n",
      " 7   end_station_id      86557 non-null  object \n",
      " 8   start_lat           96834 non-null  float64\n",
      " 9   start_lng           96834 non-null  float64\n",
      " 10  end_lat             96731 non-null  float64\n",
      " 11  end_lng             96731 non-null  float64\n",
      " 12  member_casual       96834 non-null  object \n",
      "dtypes: float64(4), object(9)\n",
      "memory usage: 9.6+ MB\n",
      "None\n",
      "<class 'pandas.core.frame.DataFrame'>\n",
      "RangeIndex: 49622 entries, 0 to 49621\n",
      "Data columns (total 13 columns):\n",
      " #   Column              Non-Null Count  Dtype  \n",
      "---  ------              --------------  -----  \n",
      " 0   ride_id             49622 non-null  object \n",
      " 1   rideable_type       49622 non-null  object \n",
      " 2   started_at          49622 non-null  object \n",
      " 3   ended_at            49622 non-null  object \n",
      " 4   start_station_name  45576 non-null  object \n",
      " 5   start_station_id    45576 non-null  object \n",
      " 6   end_station_name    44264 non-null  object \n",
      " 7   end_station_id      44264 non-null  object \n",
      " 8   start_lat           49622 non-null  float64\n",
      " 9   start_lng           49622 non-null  float64\n",
      " 10  end_lat             49408 non-null  float64\n",
      " 11  end_lng             49408 non-null  float64\n",
      " 12  member_casual       49622 non-null  object \n",
      "dtypes: float64(4), object(9)\n",
      "memory usage: 4.9+ MB\n",
      "None\n",
      "<class 'pandas.core.frame.DataFrame'>\n",
      "RangeIndex: 228496 entries, 0 to 228495\n",
      "Data columns (total 13 columns):\n",
      " #   Column              Non-Null Count   Dtype  \n",
      "---  ------              --------------   -----  \n",
      " 0   ride_id             228496 non-null  object \n",
      " 1   rideable_type       228496 non-null  object \n",
      " 2   started_at          228496 non-null  object \n",
      " 3   ended_at            228496 non-null  object \n",
      " 4   start_station_name  213648 non-null  object \n",
      " 5   start_station_id    213648 non-null  object \n",
      " 6   end_station_name    211769 non-null  object \n",
      " 7   end_station_id      211769 non-null  object \n",
      " 8   start_lat           228496 non-null  float64\n",
      " 9   start_lng           228496 non-null  float64\n",
      " 10  end_lat             228329 non-null  float64\n",
      " 11  end_lng             228329 non-null  float64\n",
      " 12  member_casual       228496 non-null  object \n",
      "dtypes: float64(4), object(9)\n",
      "memory usage: 22.7+ MB\n",
      "None\n",
      "<class 'pandas.core.frame.DataFrame'>\n",
      "RangeIndex: 337230 entries, 0 to 337229\n",
      "Data columns (total 13 columns):\n",
      " #   Column              Non-Null Count   Dtype  \n",
      "---  ------              --------------   -----  \n",
      " 0   ride_id             337230 non-null  object \n",
      " 1   rideable_type       337230 non-null  object \n",
      " 2   started_at          337230 non-null  object \n",
      " 3   ended_at            337230 non-null  object \n",
      " 4   start_station_name  311174 non-null  object \n",
      " 5   start_station_id    311174 non-null  object \n",
      " 6   end_station_name    309056 non-null  object \n",
      " 7   end_station_id      309056 non-null  object \n",
      " 8   start_lat           337230 non-null  float64\n",
      " 9   start_lng           337230 non-null  float64\n",
      " 10  end_lat             336963 non-null  float64\n",
      " 11  end_lng             336963 non-null  float64\n",
      " 12  member_casual       337230 non-null  object \n",
      "dtypes: float64(4), object(9)\n",
      "memory usage: 33.4+ MB\n",
      "None\n",
      "<class 'pandas.core.frame.DataFrame'>\n",
      "RangeIndex: 531633 entries, 0 to 531632\n",
      "Data columns (total 13 columns):\n",
      " #   Column              Non-Null Count   Dtype  \n",
      "---  ------              --------------   -----  \n",
      " 0   ride_id             531633 non-null  object \n",
      " 1   rideable_type       531633 non-null  object \n",
      " 2   started_at          531633 non-null  object \n",
      " 3   ended_at            531633 non-null  object \n",
      " 4   start_station_name  477889 non-null  object \n",
      " 5   start_station_id    477889 non-null  object \n",
      " 6   end_station_name    473439 non-null  object \n",
      " 7   end_station_id      473439 non-null  object \n",
      " 8   start_lat           531633 non-null  float64\n",
      " 9   start_lng           531633 non-null  float64\n",
      " 10  end_lat             531181 non-null  float64\n",
      " 11  end_lng             531181 non-null  float64\n",
      " 12  member_casual       531633 non-null  object \n",
      "dtypes: float64(4), object(9)\n",
      "memory usage: 52.7+ MB\n",
      "None\n",
      "<class 'pandas.core.frame.DataFrame'>\n",
      "RangeIndex: 729595 entries, 0 to 729594\n",
      "Data columns (total 13 columns):\n",
      " #   Column              Non-Null Count   Dtype  \n",
      "---  ------              --------------   -----  \n",
      " 0   ride_id             729595 non-null  object \n",
      " 1   rideable_type       729595 non-null  object \n",
      " 2   started_at          729595 non-null  object \n",
      " 3   ended_at            729595 non-null  object \n",
      " 4   start_station_name  649502 non-null  object \n",
      " 5   start_station_id    649502 non-null  object \n",
      " 6   end_station_name    643208 non-null  object \n",
      " 7   end_station_id      643208 non-null  object \n",
      " 8   start_lat           729595 non-null  float64\n",
      " 9   start_lng           729595 non-null  float64\n",
      " 10  end_lat             728878 non-null  float64\n",
      " 11  end_lng             728878 non-null  float64\n",
      " 12  member_casual       729595 non-null  object \n",
      "dtypes: float64(4), object(9)\n",
      "memory usage: 72.4+ MB\n",
      "None\n",
      "<class 'pandas.core.frame.DataFrame'>\n",
      "RangeIndex: 822410 entries, 0 to 822409\n",
      "Data columns (total 13 columns):\n",
      " #   Column              Non-Null Count   Dtype  \n",
      "---  ------              --------------   -----  \n",
      " 0   ride_id             822410 non-null  object \n",
      " 1   rideable_type       822410 non-null  object \n",
      " 2   started_at          822410 non-null  object \n",
      " 3   ended_at            822410 non-null  object \n",
      " 4   start_station_name  735147 non-null  object \n",
      " 5   start_station_id    735148 non-null  object \n",
      " 6   end_station_name    729252 non-null  object \n",
      " 7   end_station_id      729252 non-null  object \n",
      " 8   start_lat           822410 non-null  float64\n",
      " 9   start_lng           822410 non-null  float64\n",
      " 10  end_lat             821679 non-null  float64\n",
      " 11  end_lng             821679 non-null  float64\n",
      " 12  member_casual       822410 non-null  object \n",
      "dtypes: float64(4), object(9)\n",
      "memory usage: 81.6+ MB\n",
      "None\n",
      "<class 'pandas.core.frame.DataFrame'>\n",
      "RangeIndex: 804352 entries, 0 to 804351\n",
      "Data columns (total 13 columns):\n",
      " #   Column              Non-Null Count   Dtype  \n",
      "---  ------              --------------   -----  \n",
      " 0   ride_id             804352 non-null  object \n",
      " 1   rideable_type       804352 non-null  object \n",
      " 2   started_at          804352 non-null  object \n",
      " 3   ended_at            804352 non-null  object \n",
      " 4   start_station_name  715894 non-null  object \n",
      " 5   start_station_id    715894 non-null  object \n",
      " 6   end_station_name    710237 non-null  object \n",
      " 7   end_station_id      710237 non-null  object \n",
      " 8   start_lat           804352 non-null  float64\n",
      " 9   start_lng           804352 non-null  float64\n",
      " 10  end_lat             803646 non-null  float64\n",
      " 11  end_lng             803646 non-null  float64\n",
      " 12  member_casual       804352 non-null  object \n",
      "dtypes: float64(4), object(9)\n",
      "memory usage: 79.8+ MB\n",
      "None\n",
      "<class 'pandas.core.frame.DataFrame'>\n",
      "RangeIndex: 756147 entries, 0 to 756146\n",
      "Data columns (total 13 columns):\n",
      " #   Column              Non-Null Count   Dtype  \n",
      "---  ------              --------------   -----  \n",
      " 0   ride_id             756147 non-null  object \n",
      " 1   rideable_type       756147 non-null  object \n",
      " 2   started_at          756147 non-null  object \n",
      " 3   ended_at            756147 non-null  object \n",
      " 4   start_station_name  663034 non-null  object \n",
      " 5   start_station_id    663036 non-null  object \n",
      " 6   end_station_name    656886 non-null  object \n",
      " 7   end_station_id      656886 non-null  object \n",
      " 8   start_lat           756147 non-null  float64\n",
      " 9   start_lng           756147 non-null  float64\n",
      " 10  end_lat             755552 non-null  float64\n",
      " 11  end_lng             755552 non-null  float64\n",
      " 12  member_casual       756147 non-null  object \n",
      "dtypes: float64(4), object(9)\n",
      "memory usage: 75.0+ MB\n",
      "None\n",
      "<class 'pandas.core.frame.DataFrame'>\n",
      "RangeIndex: 631226 entries, 0 to 631225\n",
      "Data columns (total 13 columns):\n",
      " #   Column              Non-Null Count   Dtype  \n",
      "---  ------              --------------   -----  \n",
      " 0   ride_id             631226 non-null  object \n",
      " 1   rideable_type       631226 non-null  object \n",
      " 2   started_at          631226 non-null  object \n",
      " 3   ended_at            631226 non-null  object \n",
      " 4   start_station_name  523016 non-null  object \n",
      " 5   start_station_id    523016 non-null  object \n",
      " 6   end_station_name    516392 non-null  object \n",
      " 7   end_station_id      516392 non-null  object \n",
      " 8   start_lat           631226 non-null  float64\n",
      " 9   start_lng           631226 non-null  float64\n",
      " 10  end_lat             630742 non-null  float64\n",
      " 11  end_lng             630742 non-null  float64\n",
      " 12  member_casual       631226 non-null  object \n",
      "dtypes: float64(4), object(9)\n",
      "memory usage: 62.6+ MB\n",
      "None\n",
      "<class 'pandas.core.frame.DataFrame'>\n",
      "RangeIndex: 359978 entries, 0 to 359977\n",
      "Data columns (total 13 columns):\n",
      " #   Column              Non-Null Count   Dtype  \n",
      "---  ------              --------------   -----  \n",
      " 0   ride_id             359978 non-null  object \n",
      " 1   rideable_type       359978 non-null  object \n",
      " 2   started_at          359978 non-null  object \n",
      " 3   ended_at            359978 non-null  object \n",
      " 4   start_station_name  284688 non-null  object \n",
      " 5   start_station_id    284688 non-null  object \n",
      " 6   end_station_name    280791 non-null  object \n",
      " 7   end_station_id      280791 non-null  object \n",
      " 8   start_lat           359978 non-null  float64\n",
      " 9   start_lng           359978 non-null  float64\n",
      " 10  end_lat             359787 non-null  float64\n",
      " 11  end_lng             359787 non-null  float64\n",
      " 12  member_casual       359978 non-null  object \n",
      "dtypes: float64(4), object(9)\n",
      "memory usage: 35.7+ MB\n",
      "None\n",
      "<class 'pandas.core.frame.DataFrame'>\n",
      "RangeIndex: 247540 entries, 0 to 247539\n",
      "Data columns (total 13 columns):\n",
      " #   Column              Non-Null Count   Dtype  \n",
      "---  ------              --------------   -----  \n",
      " 0   ride_id             247540 non-null  object \n",
      " 1   rideable_type       247540 non-null  object \n",
      " 2   started_at          247540 non-null  object \n",
      " 3   ended_at            247540 non-null  object \n",
      " 4   start_station_name  196477 non-null  object \n",
      " 5   start_station_id    196477 non-null  object \n",
      " 6   end_station_name    194042 non-null  object \n",
      " 7   end_station_id      194042 non-null  object \n",
      " 8   start_lat           247540 non-null  float64\n",
      " 9   start_lng           247540 non-null  float64\n",
      " 10  end_lat             247396 non-null  float64\n",
      " 11  end_lng             247396 non-null  float64\n",
      " 12  member_casual       247540 non-null  object \n",
      "dtypes: float64(4), object(9)\n",
      "memory usage: 24.6+ MB\n",
      "None\n"
     ]
    }
   ],
   "source": [
    "for df_ in df_list:\n",
    "    print(df_.info())"
   ]
  },
  {
   "cell_type": "markdown",
   "id": "22abe4d2-df7e-4aa2-8b6f-8aea34d4a0e3",
   "metadata": {},
   "source": [
    "##### Observation:\n",
    "###### Seven columns have NO missing values:\n",
    "- ride_id, rideable_type, started_at, ended_at, start_lat, start_lng, member_casual\n",
    "###### Six columns contain missing values, but in consistent pairs:\n",
    "Each of the following pairs shares the exact number of nulls:\n",
    "- start_station_name & start_station_id\n",
    "- end_station_name & end_station_id\n",
    "- end_lat & end_lng\n",
    "\n",
    "This indicates that missing data likely reflects entirely unrecorded station/location information, rather than random errors. This supports the internal consistency of the dataset."
   ]
  },
  {
   "cell_type": "code",
   "execution_count": 7,
   "id": "f58775c2-1c90-4bbb-bef8-4efb85759ffe",
   "metadata": {},
   "outputs": [
    {
     "name": "stdout",
     "output_type": "stream",
     "text": [
      "<class 'pandas.core.frame.DataFrame'>\n",
      "RangeIndex: 5595063 entries, 0 to 5595062\n",
      "Data columns (total 13 columns):\n",
      " #   Column              Dtype  \n",
      "---  ------              -----  \n",
      " 0   ride_id             object \n",
      " 1   rideable_type       object \n",
      " 2   started_at          object \n",
      " 3   ended_at            object \n",
      " 4   start_station_name  object \n",
      " 5   start_station_id    object \n",
      " 6   end_station_name    object \n",
      " 7   end_station_id      object \n",
      " 8   start_lat           float64\n",
      " 9   start_lng           float64\n",
      " 10  end_lat             float64\n",
      " 11  end_lng             float64\n",
      " 12  member_casual       object \n",
      "dtypes: float64(4), object(9)\n",
      "memory usage: 554.9+ MB\n"
     ]
    }
   ],
   "source": [
    "df.info()"
   ]
  },
  {
   "cell_type": "markdown",
   "id": "a0f5cf72-504c-45fc-a8a3-95e05487c33b",
   "metadata": {},
   "source": [
    "##### Observation:\n",
    "The dataset contains approximately 5.6 million entries"
   ]
  },
  {
   "cell_type": "code",
   "execution_count": 9,
   "id": "a6c5423d-6f76-4861-898d-88ca19438bcf",
   "metadata": {},
   "outputs": [
    {
     "data": {
      "text/plain": [
       "0"
      ]
     },
     "execution_count": 9,
     "metadata": {},
     "output_type": "execute_result"
    }
   ],
   "source": [
    "# Checking for duplicates\n",
    "df.duplicated().sum()"
   ]
  },
  {
   "cell_type": "code",
   "execution_count": 10,
   "id": "81eb772f-0714-4e20-a377-1501940007ef",
   "metadata": {},
   "outputs": [
    {
     "data": {
      "text/html": [
       "<div>\n",
       "<style scoped>\n",
       "    .dataframe tbody tr th:only-of-type {\n",
       "        vertical-align: middle;\n",
       "    }\n",
       "\n",
       "    .dataframe tbody tr th {\n",
       "        vertical-align: top;\n",
       "    }\n",
       "\n",
       "    .dataframe thead th {\n",
       "        text-align: right;\n",
       "    }\n",
       "</style>\n",
       "<table border=\"1\" class=\"dataframe\">\n",
       "  <thead>\n",
       "    <tr style=\"text-align: right;\">\n",
       "      <th></th>\n",
       "      <th>ride_id</th>\n",
       "      <th>rideable_type</th>\n",
       "      <th>started_at</th>\n",
       "      <th>ended_at</th>\n",
       "      <th>start_station_name</th>\n",
       "      <th>start_station_id</th>\n",
       "      <th>end_station_name</th>\n",
       "      <th>end_station_id</th>\n",
       "      <th>start_lat</th>\n",
       "      <th>start_lng</th>\n",
       "      <th>end_lat</th>\n",
       "      <th>end_lng</th>\n",
       "      <th>member_casual</th>\n",
       "    </tr>\n",
       "  </thead>\n",
       "  <tbody>\n",
       "    <tr>\n",
       "      <th>count</th>\n",
       "      <td>5595063</td>\n",
       "      <td>5595063</td>\n",
       "      <td>5595063</td>\n",
       "      <td>5595063</td>\n",
       "      <td>4904254</td>\n",
       "      <td>4904257</td>\n",
       "      <td>4855893</td>\n",
       "      <td>4855893</td>\n",
       "      <td>5.595063e+06</td>\n",
       "      <td>5.595063e+06</td>\n",
       "      <td>5.590292e+06</td>\n",
       "      <td>5.590292e+06</td>\n",
       "      <td>5595063</td>\n",
       "    </tr>\n",
       "    <tr>\n",
       "      <th>unique</th>\n",
       "      <td>5595063</td>\n",
       "      <td>3</td>\n",
       "      <td>4677998</td>\n",
       "      <td>4671372</td>\n",
       "      <td>847</td>\n",
       "      <td>834</td>\n",
       "      <td>844</td>\n",
       "      <td>832</td>\n",
       "      <td>NaN</td>\n",
       "      <td>NaN</td>\n",
       "      <td>NaN</td>\n",
       "      <td>NaN</td>\n",
       "      <td>2</td>\n",
       "    </tr>\n",
       "    <tr>\n",
       "      <th>top</th>\n",
       "      <td>E19E6F1B8D4C42ED</td>\n",
       "      <td>classic_bike</td>\n",
       "      <td>2021-07-16 16:59:57</td>\n",
       "      <td>2021-09-16 08:39:10</td>\n",
       "      <td>Streeter Dr &amp; Grand Ave</td>\n",
       "      <td>13022</td>\n",
       "      <td>Streeter Dr &amp; Grand Ave</td>\n",
       "      <td>13022</td>\n",
       "      <td>NaN</td>\n",
       "      <td>NaN</td>\n",
       "      <td>NaN</td>\n",
       "      <td>NaN</td>\n",
       "      <td>member</td>\n",
       "    </tr>\n",
       "    <tr>\n",
       "      <th>freq</th>\n",
       "      <td>1</td>\n",
       "      <td>3251028</td>\n",
       "      <td>7</td>\n",
       "      <td>17</td>\n",
       "      <td>82715</td>\n",
       "      <td>82715</td>\n",
       "      <td>83390</td>\n",
       "      <td>83390</td>\n",
       "      <td>NaN</td>\n",
       "      <td>NaN</td>\n",
       "      <td>NaN</td>\n",
       "      <td>NaN</td>\n",
       "      <td>3066058</td>\n",
       "    </tr>\n",
       "    <tr>\n",
       "      <th>mean</th>\n",
       "      <td>NaN</td>\n",
       "      <td>NaN</td>\n",
       "      <td>NaN</td>\n",
       "      <td>NaN</td>\n",
       "      <td>NaN</td>\n",
       "      <td>NaN</td>\n",
       "      <td>NaN</td>\n",
       "      <td>NaN</td>\n",
       "      <td>4.190107e+01</td>\n",
       "      <td>-8.764605e+01</td>\n",
       "      <td>4.190134e+01</td>\n",
       "      <td>-8.764626e+01</td>\n",
       "      <td>NaN</td>\n",
       "    </tr>\n",
       "    <tr>\n",
       "      <th>std</th>\n",
       "      <td>NaN</td>\n",
       "      <td>NaN</td>\n",
       "      <td>NaN</td>\n",
       "      <td>NaN</td>\n",
       "      <td>NaN</td>\n",
       "      <td>NaN</td>\n",
       "      <td>NaN</td>\n",
       "      <td>NaN</td>\n",
       "      <td>4.608635e-02</td>\n",
       "      <td>2.872111e-02</td>\n",
       "      <td>4.618916e-02</td>\n",
       "      <td>2.889959e-02</td>\n",
       "      <td>NaN</td>\n",
       "    </tr>\n",
       "    <tr>\n",
       "      <th>min</th>\n",
       "      <td>NaN</td>\n",
       "      <td>NaN</td>\n",
       "      <td>NaN</td>\n",
       "      <td>NaN</td>\n",
       "      <td>NaN</td>\n",
       "      <td>NaN</td>\n",
       "      <td>NaN</td>\n",
       "      <td>NaN</td>\n",
       "      <td>4.164000e+01</td>\n",
       "      <td>-8.784000e+01</td>\n",
       "      <td>4.139000e+01</td>\n",
       "      <td>-8.897000e+01</td>\n",
       "      <td>NaN</td>\n",
       "    </tr>\n",
       "    <tr>\n",
       "      <th>25%</th>\n",
       "      <td>NaN</td>\n",
       "      <td>NaN</td>\n",
       "      <td>NaN</td>\n",
       "      <td>NaN</td>\n",
       "      <td>NaN</td>\n",
       "      <td>NaN</td>\n",
       "      <td>NaN</td>\n",
       "      <td>NaN</td>\n",
       "      <td>4.188155e+01</td>\n",
       "      <td>-8.766000e+01</td>\n",
       "      <td>4.188184e+01</td>\n",
       "      <td>-8.766000e+01</td>\n",
       "      <td>NaN</td>\n",
       "    </tr>\n",
       "    <tr>\n",
       "      <th>50%</th>\n",
       "      <td>NaN</td>\n",
       "      <td>NaN</td>\n",
       "      <td>NaN</td>\n",
       "      <td>NaN</td>\n",
       "      <td>NaN</td>\n",
       "      <td>NaN</td>\n",
       "      <td>NaN</td>\n",
       "      <td>NaN</td>\n",
       "      <td>4.189897e+01</td>\n",
       "      <td>-8.764182e+01</td>\n",
       "      <td>4.189964e+01</td>\n",
       "      <td>-8.764275e+01</td>\n",
       "      <td>NaN</td>\n",
       "    </tr>\n",
       "    <tr>\n",
       "      <th>75%</th>\n",
       "      <td>NaN</td>\n",
       "      <td>NaN</td>\n",
       "      <td>NaN</td>\n",
       "      <td>NaN</td>\n",
       "      <td>NaN</td>\n",
       "      <td>NaN</td>\n",
       "      <td>NaN</td>\n",
       "      <td>NaN</td>\n",
       "      <td>4.192914e+01</td>\n",
       "      <td>-8.762773e+01</td>\n",
       "      <td>4.192920e+01</td>\n",
       "      <td>-8.762775e+01</td>\n",
       "      <td>NaN</td>\n",
       "    </tr>\n",
       "    <tr>\n",
       "      <th>max</th>\n",
       "      <td>NaN</td>\n",
       "      <td>NaN</td>\n",
       "      <td>NaN</td>\n",
       "      <td>NaN</td>\n",
       "      <td>NaN</td>\n",
       "      <td>NaN</td>\n",
       "      <td>NaN</td>\n",
       "      <td>NaN</td>\n",
       "      <td>4.207000e+01</td>\n",
       "      <td>-8.752000e+01</td>\n",
       "      <td>4.216812e+01</td>\n",
       "      <td>-8.749000e+01</td>\n",
       "      <td>NaN</td>\n",
       "    </tr>\n",
       "  </tbody>\n",
       "</table>\n",
       "</div>"
      ],
      "text/plain": [
       "                 ride_id rideable_type           started_at  \\\n",
       "count            5595063       5595063              5595063   \n",
       "unique           5595063             3              4677998   \n",
       "top     E19E6F1B8D4C42ED  classic_bike  2021-07-16 16:59:57   \n",
       "freq                   1       3251028                    7   \n",
       "mean                 NaN           NaN                  NaN   \n",
       "std                  NaN           NaN                  NaN   \n",
       "min                  NaN           NaN                  NaN   \n",
       "25%                  NaN           NaN                  NaN   \n",
       "50%                  NaN           NaN                  NaN   \n",
       "75%                  NaN           NaN                  NaN   \n",
       "max                  NaN           NaN                  NaN   \n",
       "\n",
       "                   ended_at       start_station_name start_station_id  \\\n",
       "count               5595063                  4904254          4904257   \n",
       "unique              4671372                      847              834   \n",
       "top     2021-09-16 08:39:10  Streeter Dr & Grand Ave            13022   \n",
       "freq                     17                    82715            82715   \n",
       "mean                    NaN                      NaN              NaN   \n",
       "std                     NaN                      NaN              NaN   \n",
       "min                     NaN                      NaN              NaN   \n",
       "25%                     NaN                      NaN              NaN   \n",
       "50%                     NaN                      NaN              NaN   \n",
       "75%                     NaN                      NaN              NaN   \n",
       "max                     NaN                      NaN              NaN   \n",
       "\n",
       "               end_station_name end_station_id     start_lat     start_lng  \\\n",
       "count                   4855893        4855893  5.595063e+06  5.595063e+06   \n",
       "unique                      844            832           NaN           NaN   \n",
       "top     Streeter Dr & Grand Ave          13022           NaN           NaN   \n",
       "freq                      83390          83390           NaN           NaN   \n",
       "mean                        NaN            NaN  4.190107e+01 -8.764605e+01   \n",
       "std                         NaN            NaN  4.608635e-02  2.872111e-02   \n",
       "min                         NaN            NaN  4.164000e+01 -8.784000e+01   \n",
       "25%                         NaN            NaN  4.188155e+01 -8.766000e+01   \n",
       "50%                         NaN            NaN  4.189897e+01 -8.764182e+01   \n",
       "75%                         NaN            NaN  4.192914e+01 -8.762773e+01   \n",
       "max                         NaN            NaN  4.207000e+01 -8.752000e+01   \n",
       "\n",
       "             end_lat       end_lng member_casual  \n",
       "count   5.590292e+06  5.590292e+06       5595063  \n",
       "unique           NaN           NaN             2  \n",
       "top              NaN           NaN        member  \n",
       "freq             NaN           NaN       3066058  \n",
       "mean    4.190134e+01 -8.764626e+01           NaN  \n",
       "std     4.618916e-02  2.889959e-02           NaN  \n",
       "min     4.139000e+01 -8.897000e+01           NaN  \n",
       "25%     4.188184e+01 -8.766000e+01           NaN  \n",
       "50%     4.189964e+01 -8.764275e+01           NaN  \n",
       "75%     4.192920e+01 -8.762775e+01           NaN  \n",
       "max     4.216812e+01 -8.749000e+01           NaN  "
      ]
     },
     "execution_count": 10,
     "metadata": {},
     "output_type": "execute_result"
    }
   ],
   "source": [
    "# Overall description of the dataframe\n",
    "df.describe(include='all')"
   ]
  },
  {
   "cell_type": "markdown",
   "id": "11d5434a-80de-47c8-b1f7-d6e2926e1e31",
   "metadata": {},
   "source": [
    "##### Observation \n",
    "Previous observations about null values can be reconfirmed here.\n",
    "##### Handling null values\n",
    "- Null values are not filled with arbitrary defaults to avoid introducing distortion into the analysis\n",
    "- Null values are also not dropped outright, as the remaining columns in those rows may still contain valuable and usable information"
   ]
  },
  {
   "cell_type": "code",
   "execution_count": 12,
   "id": "a749b8a9-a35b-437c-989b-ddcafea243de",
   "metadata": {},
   "outputs": [],
   "source": [
    "# Ensuring the datetime columns are in the correct data type\n",
    "df['started_at'] = pd.to_datetime(df['started_at'], errors='coerce')\n",
    "df['ended_at'] = pd.to_datetime(df['ended_at'], errors='coerce')"
   ]
  },
  {
   "cell_type": "code",
   "execution_count": 13,
   "id": "ae3a09b4-6a5a-4e3e-a811-13cdc6c4a711",
   "metadata": {},
   "outputs": [
    {
     "name": "stdout",
     "output_type": "stream",
     "text": [
      "0\n",
      "0\n"
     ]
    }
   ],
   "source": [
    "print(df['started_at'].isna().sum())\n",
    "print(df['ended_at'].isna().sum())"
   ]
  },
  {
   "cell_type": "markdown",
   "id": "505c6073-e871-452a-885a-18837a2da0d1",
   "metadata": {},
   "source": [
    "Converted started_at and ended_at to datetime format. All entries were valid; no missing or malformed timestamps detected."
   ]
  },
  {
   "cell_type": "code",
   "execution_count": 15,
   "id": "2a229cde-fbda-4872-a93e-0d5bef4552b0",
   "metadata": {},
   "outputs": [],
   "source": [
    "# Remove records where ride ends before it starts. These are considered invalid entries due to timestamp inconsistencies.\n",
    "df = df[df['ended_at'] >= df['started_at']]"
   ]
  },
  {
   "cell_type": "code",
   "execution_count": 16,
   "id": "83005f8f-9b52-457d-9179-098200240868",
   "metadata": {},
   "outputs": [
    {
     "name": "stdout",
     "output_type": "stream",
     "text": [
      "834\n",
      "832\n"
     ]
    }
   ],
   "source": [
    "# Checking no. of unique values in start_station_id and end_station_id\n",
    "print(df['start_station_id'].nunique())\n",
    "print(df['end_station_id'].nunique())"
   ]
  },
  {
   "cell_type": "code",
   "execution_count": 17,
   "id": "94aab032-2383-4405-89bb-4b3f18023baa",
   "metadata": {},
   "outputs": [
    {
     "data": {
      "text/plain": [
       "{'20111', '427'}"
      ]
     },
     "execution_count": 17,
     "metadata": {},
     "output_type": "execute_result"
    }
   ],
   "source": [
    "# Checking which values are extra\n",
    "set(df['start_station_id'].unique()) - set(df['end_station_id'].unique())"
   ]
  },
  {
   "cell_type": "markdown",
   "id": "c06436b0-cdd9-4458-b8b2-2b7a99f109e8",
   "metadata": {},
   "source": [
    "##### Observation\n",
    "The difference between values in start_station_id and end_station_id is minimal and so they likely represent valid stations"
   ]
  },
  {
   "cell_type": "markdown",
   "id": "092f708b-7ef5-4425-a08d-eec77a7140fe",
   "metadata": {},
   "source": [
    "### Data Transformation"
   ]
  },
  {
   "cell_type": "markdown",
   "id": "6337e113-59b3-4975-b400-c721ed2dc07f",
   "metadata": {},
   "source": [
    "##### New columns: month, day_of_week, hour"
   ]
  },
  {
   "cell_type": "code",
   "execution_count": 21,
   "id": "6ae9f779-1d7e-4a67-9a4e-1b2e413214cf",
   "metadata": {},
   "outputs": [],
   "source": [
    "df['month'] = df['started_at'].dt.month                \n",
    "df['day_of_week'] = df['started_at'].dt.day_name()     \n",
    "df['hour'] = df['started_at'].dt.hour                "
   ]
  },
  {
   "cell_type": "markdown",
   "id": "4259fbc5-e609-4d5e-bde7-872cebec913a",
   "metadata": {},
   "source": [
    "##### New column: ride_duration"
   ]
  },
  {
   "cell_type": "code",
   "execution_count": 23,
   "id": "c8434764-2201-43b2-954a-301e3f81cb81",
   "metadata": {},
   "outputs": [],
   "source": [
    "# Creating new column ride_duration (int datatype) using columns started_at and ended_at\n",
    "df['ride_duration'] = (df['ended_at'] - df['started_at']).dt.total_seconds() / 60"
   ]
  },
  {
   "cell_type": "markdown",
   "id": "6013737e-7709-47ce-ada6-ed9ceea545db",
   "metadata": {},
   "source": [
    "##### Precision Improvement on lat lng columns"
   ]
  },
  {
   "cell_type": "code",
   "execution_count": 25,
   "id": "6628e259-32fa-40ed-98cf-5b8eb9604d00",
   "metadata": {},
   "outputs": [
    {
     "data": {
      "text/html": [
       "<div>\n",
       "<style scoped>\n",
       "    .dataframe tbody tr th:only-of-type {\n",
       "        vertical-align: middle;\n",
       "    }\n",
       "\n",
       "    .dataframe tbody tr th {\n",
       "        vertical-align: top;\n",
       "    }\n",
       "\n",
       "    .dataframe thead th {\n",
       "        text-align: right;\n",
       "    }\n",
       "</style>\n",
       "<table border=\"1\" class=\"dataframe\">\n",
       "  <thead>\n",
       "    <tr style=\"text-align: right;\">\n",
       "      <th></th>\n",
       "      <th>start_lat</th>\n",
       "      <th>start_lng</th>\n",
       "    </tr>\n",
       "    <tr>\n",
       "      <th>start_station_id</th>\n",
       "      <th></th>\n",
       "      <th></th>\n",
       "    </tr>\n",
       "  </thead>\n",
       "  <tbody>\n",
       "    <tr>\n",
       "      <th>13001</th>\n",
       "      <td>3155</td>\n",
       "      <td>4110</td>\n",
       "    </tr>\n",
       "    <tr>\n",
       "      <th>13006</th>\n",
       "      <td>2641</td>\n",
       "      <td>2520</td>\n",
       "    </tr>\n",
       "    <tr>\n",
       "      <th>13008</th>\n",
       "      <td>2401</td>\n",
       "      <td>1676</td>\n",
       "    </tr>\n",
       "    <tr>\n",
       "      <th>13011</th>\n",
       "      <td>3202</td>\n",
       "      <td>3283</td>\n",
       "    </tr>\n",
       "    <tr>\n",
       "      <th>13016</th>\n",
       "      <td>3912</td>\n",
       "      <td>4042</td>\n",
       "    </tr>\n",
       "    <tr>\n",
       "      <th>...</th>\n",
       "      <td>...</td>\n",
       "      <td>...</td>\n",
       "    </tr>\n",
       "    <tr>\n",
       "      <th>TA1309000067</th>\n",
       "      <td>292</td>\n",
       "      <td>248</td>\n",
       "    </tr>\n",
       "    <tr>\n",
       "      <th>Throop/Hastings Mobile Station</th>\n",
       "      <td>2</td>\n",
       "      <td>2</td>\n",
       "    </tr>\n",
       "    <tr>\n",
       "      <th>WL-008</th>\n",
       "      <td>1347</td>\n",
       "      <td>1126</td>\n",
       "    </tr>\n",
       "    <tr>\n",
       "      <th>WL-011</th>\n",
       "      <td>1767</td>\n",
       "      <td>1702</td>\n",
       "    </tr>\n",
       "    <tr>\n",
       "      <th>WL-012</th>\n",
       "      <td>3227</td>\n",
       "      <td>3086</td>\n",
       "    </tr>\n",
       "  </tbody>\n",
       "</table>\n",
       "<p>834 rows × 2 columns</p>\n",
       "</div>"
      ],
      "text/plain": [
       "                                start_lat  start_lng\n",
       "start_station_id                                    \n",
       "13001                                3155       4110\n",
       "13006                                2641       2520\n",
       "13008                                2401       1676\n",
       "13011                                3202       3283\n",
       "13016                                3912       4042\n",
       "...                                   ...        ...\n",
       "TA1309000067                          292        248\n",
       "Throop/Hastings Mobile Station          2          2\n",
       "WL-008                               1347       1126\n",
       "WL-011                               1767       1702\n",
       "WL-012                               3227       3086\n",
       "\n",
       "[834 rows x 2 columns]"
      ]
     },
     "execution_count": 25,
     "metadata": {},
     "output_type": "execute_result"
    }
   ],
   "source": [
    "# Checking if a station ID is linked to more than one lat/lng pair \n",
    "df.groupby('start_station_id')[['start_lat', 'start_lng']].nunique()"
   ]
  },
  {
   "cell_type": "markdown",
   "id": "7d5d8247-ab31-4f77-a651-e927da98f431",
   "metadata": {},
   "source": [
    "##### Observation\n",
    "This is not expected. A single station ID should be associated with a single location. This might suggest GPS noise or inconsistent logging of station coordinates over time."
   ]
  },
  {
   "cell_type": "code",
   "execution_count": 27,
   "id": "23235c5b-51e8-4062-bd7f-998dcd0c0c42",
   "metadata": {},
   "outputs": [
    {
     "data": {
      "text/html": [
       "<div>\n",
       "<style scoped>\n",
       "    .dataframe tbody tr th:only-of-type {\n",
       "        vertical-align: middle;\n",
       "    }\n",
       "\n",
       "    .dataframe tbody tr th {\n",
       "        vertical-align: top;\n",
       "    }\n",
       "\n",
       "    .dataframe thead th {\n",
       "        text-align: right;\n",
       "    }\n",
       "</style>\n",
       "<table border=\"1\" class=\"dataframe\">\n",
       "  <thead>\n",
       "    <tr style=\"text-align: right;\">\n",
       "      <th></th>\n",
       "      <th>start_lat_r</th>\n",
       "      <th>start_lng_r</th>\n",
       "    </tr>\n",
       "    <tr>\n",
       "      <th>start_station_id</th>\n",
       "      <th></th>\n",
       "      <th></th>\n",
       "    </tr>\n",
       "  </thead>\n",
       "  <tbody>\n",
       "    <tr>\n",
       "      <th>13001</th>\n",
       "      <td>31</td>\n",
       "      <td>47</td>\n",
       "    </tr>\n",
       "    <tr>\n",
       "      <th>13006</th>\n",
       "      <td>31</td>\n",
       "      <td>28</td>\n",
       "    </tr>\n",
       "    <tr>\n",
       "      <th>13008</th>\n",
       "      <td>13</td>\n",
       "      <td>15</td>\n",
       "    </tr>\n",
       "    <tr>\n",
       "      <th>13011</th>\n",
       "      <td>31</td>\n",
       "      <td>39</td>\n",
       "    </tr>\n",
       "    <tr>\n",
       "      <th>13016</th>\n",
       "      <td>27</td>\n",
       "      <td>31</td>\n",
       "    </tr>\n",
       "    <tr>\n",
       "      <th>...</th>\n",
       "      <td>...</td>\n",
       "      <td>...</td>\n",
       "    </tr>\n",
       "    <tr>\n",
       "      <th>TA1309000067</th>\n",
       "      <td>3</td>\n",
       "      <td>3</td>\n",
       "    </tr>\n",
       "    <tr>\n",
       "      <th>Throop/Hastings Mobile Station</th>\n",
       "      <td>1</td>\n",
       "      <td>2</td>\n",
       "    </tr>\n",
       "    <tr>\n",
       "      <th>WL-008</th>\n",
       "      <td>7</td>\n",
       "      <td>6</td>\n",
       "    </tr>\n",
       "    <tr>\n",
       "      <th>WL-011</th>\n",
       "      <td>27</td>\n",
       "      <td>24</td>\n",
       "    </tr>\n",
       "    <tr>\n",
       "      <th>WL-012</th>\n",
       "      <td>30</td>\n",
       "      <td>31</td>\n",
       "    </tr>\n",
       "  </tbody>\n",
       "</table>\n",
       "<p>834 rows × 2 columns</p>\n",
       "</div>"
      ],
      "text/plain": [
       "                                start_lat_r  start_lng_r\n",
       "start_station_id                                        \n",
       "13001                                    31           47\n",
       "13006                                    31           28\n",
       "13008                                    13           15\n",
       "13011                                    31           39\n",
       "13016                                    27           31\n",
       "...                                     ...          ...\n",
       "TA1309000067                              3            3\n",
       "Throop/Hastings Mobile Station            1            2\n",
       "WL-008                                    7            6\n",
       "WL-011                                   27           24\n",
       "WL-012                                   30           31\n",
       "\n",
       "[834 rows x 2 columns]"
      ]
     },
     "execution_count": 27,
     "metadata": {},
     "output_type": "execute_result"
    }
   ],
   "source": [
    "# Checking what happens when the lat and lng are rounded\n",
    "(\n",
    "    df.assign(\n",
    "        start_lat_r = df['start_lat'].round(4),\n",
    "        start_lng_r = df['start_lng'].round(4)\n",
    "    )\n",
    "    .groupby('start_station_id')[['start_lat_r', 'start_lng_r']]\n",
    "    .nunique()\n",
    ")"
   ]
  },
  {
   "cell_type": "markdown",
   "id": "6e1b8986-62f1-4c54-b10a-ca1e6b17b24e",
   "metadata": {},
   "source": [
    "##### Observation\n",
    "Rounding coordinates to 4 decimal places significantly reduces the number of unique location values per start_station_id, which confirms the presence of GPS noise in the raw data\n",
    "##### Handling inconsistency\n",
    "This variation is handled through normalization to ensure that each station ID maps to a stable and reliable location."
   ]
  },
  {
   "cell_type": "code",
   "execution_count": 29,
   "id": "0997e57c-c66d-4b09-9845-2bcd204c4d54",
   "metadata": {},
   "outputs": [],
   "source": [
    "# Normalization by picking the most frequently used coordinates (mode)\n",
    "start_station_mode_coords = (\n",
    "    df.groupby('start_station_id')[['start_lat', 'start_lng']]\n",
    "    .agg(lambda x: x.mode().iloc[0])\n",
    "    .reset_index()\n",
    ")\n",
    "\n",
    "# Replace inconsistent end_lat/lng by merging the mode value\n",
    "df = df.drop(['start_lat', 'start_lng'], axis=1).merge(\n",
    "    start_station_mode_coords, on='start_station_id', how='left'\n",
    ")"
   ]
  },
  {
   "cell_type": "code",
   "execution_count": 30,
   "id": "b77cbc39-ac41-4105-a7cf-dc8309b28694",
   "metadata": {},
   "outputs": [],
   "source": [
    "# Repeating the process for end stations\n",
    "\n",
    "# Reuse the same station-location mapping\n",
    "end_station_mode_coords = start_station_mode_coords.rename(columns={\n",
    "    'start_station_id': 'end_station_id',\n",
    "    'start_lat': 'end_lat',\n",
    "    'start_lng': 'end_lng'\n",
    "})\n",
    "\n",
    "df = df.drop(['end_lat', 'end_lng'], axis=1).merge(\n",
    "    end_station_mode_coords, on='end_station_id', how='left'\n",
    ")"
   ]
  },
  {
   "cell_type": "markdown",
   "id": "ad2bacda-10f0-4c5d-9389-e8869a4a5bb4",
   "metadata": {},
   "source": [
    "##### New column: distance\n",
    "It is computationally expensive to calculate distance for each row because pairs may be repeated.Hence, \n",
    "1. Creating a new table with unique start and end lat and lng pairs, and computing the distance.\n",
    "2. Finally, merging the distance column with the main df."
   ]
  },
  {
   "cell_type": "code",
   "execution_count": 32,
   "id": "6d0dac46-92cd-4067-b282-2dd9187d5b55",
   "metadata": {},
   "outputs": [],
   "source": [
    "# Step 1: Create a new table with unique start and end lat and lng pairs \n",
    "lat_lng_pairs = df[['start_lat','start_lng','end_lat','end_lng']].drop_duplicates().copy()\n",
    "\n",
    "# d = 2 * r * arcsin(√(sin²((φ2 - φ1)/2) + cos(φ1) * cos(φ2) * sin²((λ2 - λ1)/2)))\n",
    "def haversine(lat1, lon1, lat2, lon2):\n",
    "    R = 6371.0  # Earth radius in km\n",
    "    lat1, lon1, lat2, lon2 = map(np.radians, [lat1, lon1, lat2, lon2])\n",
    "    dlat = lat2 - lat1\n",
    "    dlon = lon2 - lon1\n",
    "    a = np.sin(dlat / 2)**2 + np.cos(lat1) * np.cos(lat2) * np.sin(dlon / 2)**2\n",
    "    c = 2 * np.arcsin(np.sqrt(a))\n",
    "    return R * c\n",
    "\n",
    "# Step 1: Compute the distance\n",
    "lat_lng_pairs['distance'] = haversine(lat_lng_pairs['start_lat'], lat_lng_pairs['start_lng'], lat_lng_pairs['end_lat'], lat_lng_pairs['end_lng'])"
   ]
  },
  {
   "cell_type": "code",
   "execution_count": 33,
   "id": "7d56c4e4-f6ec-4b40-8f4f-a170eef13f84",
   "metadata": {},
   "outputs": [
    {
     "name": "stdout",
     "output_type": "stream",
     "text": [
      "<class 'pandas.core.frame.DataFrame'>\n",
      "Index: 149771 entries, 0 to 5591871\n",
      "Data columns (total 5 columns):\n",
      " #   Column     Non-Null Count   Dtype  \n",
      "---  ------     --------------   -----  \n",
      " 0   start_lat  148974 non-null  float64\n",
      " 1   start_lng  148974 non-null  float64\n",
      " 2   end_lat    148974 non-null  float64\n",
      " 3   end_lng    148974 non-null  float64\n",
      " 4   distance   148178 non-null  float64\n",
      "dtypes: float64(5)\n",
      "memory usage: 6.9 MB\n"
     ]
    }
   ],
   "source": [
    "lat_lng_pairs.info()"
   ]
  },
  {
   "cell_type": "code",
   "execution_count": 34,
   "id": "1eefbfaf-4f67-4f10-bb2c-0955e5654c1e",
   "metadata": {},
   "outputs": [],
   "source": [
    "# Step 2: Merge with main df\n",
    "df = df.merge(lat_lng_pairs, on=['start_lat', 'start_lng', 'end_lat', 'end_lng'], how='left')"
   ]
  },
  {
   "cell_type": "code",
   "execution_count": 35,
   "id": "331e3fc1-c586-4d00-87a9-3e88ac6c3b9d",
   "metadata": {},
   "outputs": [
    {
     "name": "stdout",
     "output_type": "stream",
     "text": [
      "<class 'pandas.core.frame.DataFrame'>\n",
      "RangeIndex: 5594916 entries, 0 to 5594915\n",
      "Data columns (total 18 columns):\n",
      " #   Column              Dtype         \n",
      "---  ------              -----         \n",
      " 0   ride_id             object        \n",
      " 1   rideable_type       object        \n",
      " 2   started_at          datetime64[ns]\n",
      " 3   ended_at            datetime64[ns]\n",
      " 4   start_station_name  object        \n",
      " 5   start_station_id    object        \n",
      " 6   end_station_name    object        \n",
      " 7   end_station_id      object        \n",
      " 8   member_casual       object        \n",
      " 9   month               int32         \n",
      " 10  day_of_week         object        \n",
      " 11  hour                int32         \n",
      " 12  ride_duration       float64       \n",
      " 13  start_lat           float64       \n",
      " 14  start_lng           float64       \n",
      " 15  end_lat             float64       \n",
      " 16  end_lng             float64       \n",
      " 17  distance            float64       \n",
      "dtypes: datetime64[ns](2), float64(6), int32(2), object(8)\n",
      "memory usage: 725.7+ MB\n"
     ]
    }
   ],
   "source": [
    "df.info()"
   ]
  },
  {
   "cell_type": "markdown",
   "id": "e0d350f0-b100-4d46-9748-8bd45ec9bbeb",
   "metadata": {},
   "source": [
    "##### Data Transformation Summary\n",
    "1. Extracted time features: Created month, day_of_week, and hour from started_at.\n",
    "2. Calculated ride duration: Added a ride_duration column as the difference between ended_at and started_at.\n",
    "3. Normalized GPS coordinates: Standardized start_lat, start_lng, end_lat, and end_lng to reduce GPS noise and ensure station-level consistency.\n",
    "4. Computed ride distance: Added a distance column using Haversine formula on normalized coordinates."
   ]
  },
  {
   "cell_type": "markdown",
   "id": "4b9655a0-eebf-4afe-be0f-23df46f14791",
   "metadata": {},
   "source": [
    "### EDA"
   ]
  },
  {
   "cell_type": "code",
   "execution_count": 38,
   "id": "197dea5b-a8ec-4f12-b766-9d020bf96f78",
   "metadata": {},
   "outputs": [
    {
     "data": {
      "image/png": "[encoded data removed]",
      "text/plain": [
       "<Figure size 640x480 with 1 Axes>"
      ]
     },
     "metadata": {},
     "output_type": "display_data"
    }
   ],
   "source": [
    "# Member vs. Casual Ride Count\n",
    "sns.countplot(data=df, x='member_casual')\n",
    "plt.title('Ride Count by User Type')\n",
    "plt.xlabel('User Type')\n",
    "plt.ylabel('Number of Rides')\n",
    "plt.show()"
   ]
  },
  {
   "cell_type": "markdown",
   "id": "835ff73a-bef4-4c9e-9f05-4d606f2053c5",
   "metadata": {},
   "source": [
    "##### Observation\n",
    "Members make slightly more rides compared to casual riders, indicating both user groups are active and relevant."
   ]
  },
  {
   "cell_type": "code",
   "execution_count": 40,
   "id": "6f3e599b-f9cc-4da9-aa74-7a8b4dd9f9ef",
   "metadata": {},
   "outputs": [
    {
     "data": {
      "image/png": "[encoded data removed]",
      "text/plain": [
       "<Figure size 640x480 with 1 Axes>"
      ]
     },
     "metadata": {},
     "output_type": "display_data"
    }
   ],
   "source": [
    "# Ride Duration by User Type\n",
    "sns.boxplot(data=df, x='member_casual', y='ride_duration')\n",
    "plt.title('Ride Duration Distribution by User Type')\n",
    "plt.ylim(0, 60)\n",
    "plt.xlabel('User Type')\n",
    "plt.ylabel('Ride Duration (minutes)')\n",
    "plt.show()"
   ]
  },
  {
   "cell_type": "markdown",
   "id": "f31d9f19-38c7-4488-acb7-5208c5a1957e",
   "metadata": {},
   "source": [
    "##### Observation\n",
    "- Casual users tend to take longer rides on average, suggesting leisure-oriented usage.\n",
    "- Members ride for shorter, consistent durations, most likely for commuting."
   ]
  },
  {
   "cell_type": "code",
   "execution_count": 42,
   "id": "883c282e-ea24-426a-adab-204a7afda23b",
   "metadata": {},
   "outputs": [
    {
     "data": {
      "image/png": "[encoded data removed]",
      "text/plain": [
       "<Figure size 640x480 with 1 Axes>"
      ]
     },
     "metadata": {},
     "output_type": "display_data"
    }
   ],
   "source": [
    "# Distance by User Type\n",
    "sns.boxplot(data=df, x='member_casual', y='distance')\n",
    "plt.title('Distance Traveled by User Type')\n",
    "plt.ylim(0, 5)\n",
    "plt.xlabel('User Type')\n",
    "plt.ylabel('Distance (km)')\n",
    "plt.show()"
   ]
  },
  {
   "cell_type": "markdown",
   "id": "3e7b8855-e33c-4869-b17c-6c8881846d22",
   "metadata": {},
   "source": [
    "##### Observation\n",
    "Casual riders travel slightly longer distances on average, but the overall distribution is quite similar between the two groups. This suggests that both members and casuals tend to ride comparable distances, with casuals showing a mild tendency toward longer leisure rides."
   ]
  },
  {
   "cell_type": "code",
   "execution_count": 44,
   "id": "96cf703f-ae29-4dee-9f5f-f7ce7cd048f9",
   "metadata": {},
   "outputs": [
    {
     "data": {
      "image/png": "[encoded data removed]",
      "text/plain": [
       "<Figure size 640x480 with 1 Axes>"
      ]
     },
     "metadata": {},
     "output_type": "display_data"
    }
   ],
   "source": [
    "# Rides by Day of Week\n",
    "sns.countplot(data=df, x='day_of_week', hue='member_casual',\n",
    "              order=['Monday', 'Tuesday', 'Wednesday', 'Thursday', 'Friday', 'Saturday', 'Sunday'])\n",
    "plt.title('Ride Count by Day of the Week')\n",
    "plt.xlabel('Day of Week')\n",
    "plt.ylabel('Number of Rides')\n",
    "plt.legend(title='User Type')\n",
    "plt.show()"
   ]
  },
  {
   "cell_type": "markdown",
   "id": "0617bb2a-a671-487a-96c0-a131ebdab618",
   "metadata": {},
   "source": [
    "#####  Observation\n",
    "Casual riders show strong preference for weekends, while member usage is more evenly distributed throughout the week."
   ]
  },
  {
   "cell_type": "code",
   "execution_count": 47,
   "id": "45d9aefe-8fd4-4099-91cf-6dcf95850977",
   "metadata": {},
   "outputs": [
    {
     "data": {
      "image/png": "[encoded data removed]",
      "text/plain": [
       "<Figure size 1200x600 with 1 Axes>"
      ]
     },
     "metadata": {},
     "output_type": "display_data"
    }
   ],
   "source": [
    "# Hour of Day Usage\n",
    "plt.figure(figsize=(12, 6))\n",
    "sns.countplot(data=df, x='hour', hue='member_casual', dodge=True)\n",
    "plt.title('Hourly Ride Usage by User Type')\n",
    "plt.xlabel('Hour of Day')\n",
    "plt.ylabel('Number of Rides')\n",
    "plt.xticks(range(0, 24))\n",
    "plt.legend(title='User Type')\n",
    "plt.show()"
   ]
  },
  {
   "cell_type": "markdown",
   "id": "57d51e30-69a0-4daa-a865-06bb4342066f",
   "metadata": {},
   "source": [
    "##### Observation\n",
    "- Both casual and member riders show a clear peak in ride activity around 5 PM.\n",
    "- However, members ride more consistently across the workday, suggesting commuting behavior.\n",
    "- Casual riders show higher activity during midday and evening hours (11 AM–7 PM), likely reflecting recreational use."
   ]
  },
  {
   "cell_type": "code",
   "execution_count": 49,
   "id": "acb12b01-5d5f-4b36-a072-5a27ea7b5562",
   "metadata": {},
   "outputs": [
    {
     "data": {
      "image/png": "[encoded data removed]",
      "text/plain": [
       "<Figure size 640x480 with 1 Axes>"
      ]
     },
     "metadata": {},
     "output_type": "display_data"
    }
   ],
   "source": [
    "# Monthly Seasonality\n",
    "sns.countplot(data=df, x='month', hue='member_casual')\n",
    "plt.title('Monthly Ride Volume by User Type')\n",
    "plt.xlabel('Month')\n",
    "plt.ylabel('Number of Rides')\n",
    "plt.legend(title='User Type')\n",
    "plt.show()"
   ]
  },
  {
   "cell_type": "markdown",
   "id": "6924ba21-fcb4-4cce-943e-0de6916af825",
   "metadata": {},
   "source": [
    "##### Observation\n",
    "Casual rider usage peaks during summer (June–September), while members ride year-round, though they also drop slightly in winter."
   ]
  },
  {
   "cell_type": "code",
   "execution_count": 51,
   "id": "f2a12574-58c6-4f36-b723-5dbb42cf4711",
   "metadata": {},
   "outputs": [
    {
     "data": {
      "image/png": "[encoded data removed]",
      "text/plain": [
       "<Figure size 640x480 with 1 Axes>"
      ]
     },
     "metadata": {},
     "output_type": "display_data"
    }
   ],
   "source": [
    "# Rideable Type Preferences\n",
    "sns.countplot(data=df, x='rideable_type', hue='member_casual')\n",
    "plt.title('Bike Type Preferences by User Type')\n",
    "plt.xlabel('Bike Type')\n",
    "plt.ylabel('Number of Rides')\n",
    "plt.legend(title='User Type')\n",
    "plt.show()"
   ]
  },
  {
   "cell_type": "markdown",
   "id": "cca2131b-e048-4eba-93b9-691f3c4f2573",
   "metadata": {},
   "source": [
    "##### Observation\n",
    "Classic bikes are the most preferred by both user groups."
   ]
  },
  {
   "cell_type": "markdown",
   "id": "8e8c6a83-a26f-4315-b270-987008960ca4",
   "metadata": {},
   "source": [
    "### Conclusion & Recommendations\n",
    "\n",
    "---\n",
    "\n",
    "#### Key Findings:\n",
    "\n",
    "1. **User Composition:**\n",
    "   - Members made up ~55% of the total rides, while casual riders accounted for ~45%.\n",
    "   - Suggests an opportunity to convert casual riders into long-term members.\n",
    "\n",
    "2. **Ride Duration & Distance:**\n",
    "   - Casual riders tend to take longer rides and travel slightly farther on average.\n",
    "   - Indicates leisure-oriented usage among casuals vs. utilitarian commuting among members.\n",
    "\n",
    "3. **Hourly Ride Patterns:**\n",
    "   - Both groups peak at 5 PM, but casual riders show higher midday and evening activity (11 AM–6 PM).\n",
    "   - Members show steadier patterns during work hours, reflecting commuting behavior.\n",
    "\n",
    "4. **Weekly Trends:**\n",
    "   - Casuals ride more on weekends, while members ride fairly consistently throughout the week.\n",
    "   - Reinforces the leisure vs. commuter segmentation.\n",
    "\n",
    "5. **Seasonal Trends:**\n",
    "   - Casual usage spikes in summer (June–September), while member usage remains more consistent.\n",
    "   - Winter months see a decline in rides from both user types.\n",
    "\n",
    "6. **Bike Type Preference:**\n",
    "   - Both casuals and members prefer classic bikes, but docked bikes are almost exclusively used by casuals.\n",
    "   - Suggests docked bikes may be more associated with tourist or ad-hoc rides.\n",
    "\n",
    "---\n",
    "\n",
    "#### Recommendations for Cyclistic:\n",
    "\n",
    "1. **Introduce Tiered Memberships:**\n",
    "   - Offer flexible or seasonal passes targeted at **leisure riders**.\n",
    "   - Include perks like **museum discounts**, **sports event tie-ins**, or **group ride passes**.\n",
    "\n",
    "2. **Market to Casuals During Summer & Weekends:**\n",
    "   - Run **campaigns in May–September** highlighting membership benefits.\n",
    "   - Focus on **weekend plans** and encourage family/group usage.\n",
    "\n",
    "3. **Highlight Value for Long Rides:**\n",
    "   - Educate casuals that frequent long rides may cost more than a membership.\n",
    "   - Use targeted messaging for riders with average trip duration >10 minutes.\n",
    "\n",
    "4. **Capitalize on Peak Hours:**\n",
    "   - For casuals: Promote **afternoon leisure rides**.\n",
    "   - For members: Enhance service around **commute hours (8 AM / 5 PM)**.\n",
    "\n",
    "5. **Emphasize Popular Bike Types:**\n",
    "   - Use **classic bikes** as the visual face of your branding and marketing.\n",
    "   - Consider optimizing docked bike availability in tourist-heavy zones.\n",
    "\n",
    "6. **Add Referral or Guest Ride Incentives:**\n",
    "   - Offer **free guest passes** or **referral rewards** to members to increase organic conversions.\n",
    "\n",
    "---\n",
    "\n",
    "This analysis supports data-driven decisions in marketing, product design, and service planning. The patterns observed can help Cyclistic increase member acquisition, boost engagement, and improve customer satisfaction across both user segments.\n"
   ]
  },
  {
   "cell_type": "code",
   "execution_count": null,
   "id": "4bc1846f-dfa6-4e81-92cb-2d3f38e96959",
   "metadata": {},
   "outputs": [],
   "source": []
  }
 ],
 "metadata": {
  "kernelspec": {
   "display_name": "Python [conda env:base] *",
   "language": "python",
   "name": "conda-base-py"
  },
  "language_info": {
   "codemirror_mode": {
    "name": "ipython",
    "version": 3
   },
   "file_extension": ".py",
   "mimetype": "text/x-python",
   "name": "python",
   "nbconvert_exporter": "python",
   "pygments_lexer": "ipython3",
   "version": "3.12.7"
  }
 },
 "nbformat": 4,
 "nbformat_minor": 5
}
